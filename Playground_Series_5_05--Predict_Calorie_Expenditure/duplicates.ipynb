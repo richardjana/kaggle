{
 "cells": [
  {
   "cell_type": "code",
   "execution_count": 3,
   "id": "e4a42d0c-1f11-4714-ad16-d205fc169a30",
   "metadata": {},
   "outputs": [
    {
     "data": {
      "text/html": [
       "<div>\n",
       "<style scoped>\n",
       "    .dataframe tbody tr th:only-of-type {\n",
       "        vertical-align: middle;\n",
       "    }\n",
       "\n",
       "    .dataframe tbody tr th {\n",
       "        vertical-align: top;\n",
       "    }\n",
       "\n",
       "    .dataframe thead th {\n",
       "        text-align: right;\n",
       "    }\n",
       "</style>\n",
       "<table border=\"1\" class=\"dataframe\">\n",
       "  <thead>\n",
       "    <tr style=\"text-align: right;\">\n",
       "      <th></th>\n",
       "      <th>Sex</th>\n",
       "      <th>Age</th>\n",
       "      <th>Height</th>\n",
       "      <th>Weight</th>\n",
       "      <th>Duration</th>\n",
       "      <th>Heart_Rate</th>\n",
       "      <th>Body_Temp</th>\n",
       "      <th>Calories</th>\n",
       "    </tr>\n",
       "  </thead>\n",
       "  <tbody>\n",
       "    <tr>\n",
       "      <th>629014</th>\n",
       "      <td>male</td>\n",
       "      <td>25</td>\n",
       "      <td>187.0</td>\n",
       "      <td>92.0</td>\n",
       "      <td>3.0</td>\n",
       "      <td>80.0</td>\n",
       "      <td>38.7</td>\n",
       "      <td>5.0</td>\n",
       "    </tr>\n",
       "    <tr>\n",
       "      <th>344645</th>\n",
       "      <td>male</td>\n",
       "      <td>37</td>\n",
       "      <td>184.0</td>\n",
       "      <td>85.0</td>\n",
       "      <td>9.0</td>\n",
       "      <td>89.0</td>\n",
       "      <td>39.5</td>\n",
       "      <td>36.0</td>\n",
       "    </tr>\n",
       "    <tr>\n",
       "      <th>163166</th>\n",
       "      <td>male</td>\n",
       "      <td>60</td>\n",
       "      <td>175.0</td>\n",
       "      <td>82.0</td>\n",
       "      <td>4.0</td>\n",
       "      <td>88.0</td>\n",
       "      <td>38.9</td>\n",
       "      <td>19.0</td>\n",
       "    </tr>\n",
       "    <tr>\n",
       "      <th>79438</th>\n",
       "      <td>male</td>\n",
       "      <td>44</td>\n",
       "      <td>162.0</td>\n",
       "      <td>63.0</td>\n",
       "      <td>8.0</td>\n",
       "      <td>79.0</td>\n",
       "      <td>39.5</td>\n",
       "      <td>22.0</td>\n",
       "    </tr>\n",
       "    <tr>\n",
       "      <th>316273</th>\n",
       "      <td>female</td>\n",
       "      <td>22</td>\n",
       "      <td>178.0</td>\n",
       "      <td>79.0</td>\n",
       "      <td>29.0</td>\n",
       "      <td>110.0</td>\n",
       "      <td>40.6</td>\n",
       "      <td>184.0</td>\n",
       "    </tr>\n",
       "  </tbody>\n",
       "</table>\n",
       "</div>"
      ],
      "text/plain": [
       "           Sex  Age  Height  Weight  Duration  Heart_Rate  Body_Temp  Calories\n",
       "629014    male   25   187.0    92.0       3.0        80.0       38.7       5.0\n",
       "344645    male   37   184.0    85.0       9.0        89.0       39.5      36.0\n",
       "163166    male   60   175.0    82.0       4.0        88.0       38.9      19.0\n",
       "79438     male   44   162.0    63.0       8.0        79.0       39.5      22.0\n",
       "316273  female   22   178.0    79.0      29.0       110.0       40.6     184.0"
      ]
     },
     "execution_count": 3,
     "metadata": {},
     "output_type": "execute_result"
    }
   ],
   "source": [
    "import pandas as pd\n",
    "import numpy as np\n",
    "import seaborn as sns\n",
    "import matplotlib.pyplot as plt\n",
    "\n",
    "data_train = pd.read_csv('train.csv')\n",
    "data_train.drop('id', axis=1, inplace=True)\n",
    "data_test = pd.read_csv('test.csv')\n",
    "data_test.drop('id', axis=1, inplace=True)\n",
    "\n",
    "data_original = pd.read_csv('calories.csv')\n",
    "data_original = data_original.rename(columns={'Gender': 'Sex'})\n",
    "data_original.drop('User_ID', axis=1, inplace=True)\n",
    "\n",
    "TARGET_COL = 'Calories'\n",
    "\n",
    "data_train.sample(5)"
   ]
  },
  {
   "cell_type": "code",
   "execution_count": 8,
   "id": "bac1873c-c893-41ca-872f-ef70babb5561",
   "metadata": {},
   "outputs": [],
   "source": [
    "def find_duplicates(df):\n",
    "    full_duplicates = df[df.duplicated()]\n",
    "    feature_duplicates = df[df.duplicated(subset=df.columns.difference(['Calories']))]\n",
    "    return len(full_duplicates), len(full_duplicates)/len(df), len(feature_duplicates), len(feature_duplicates)/len(df)"
   ]
  },
  {
   "cell_type": "code",
   "execution_count": 9,
   "id": "bbc4c0bf-9784-426d-822f-9aeb0f4b71c2",
   "metadata": {},
   "outputs": [
    {
     "name": "stdout",
     "output_type": "stream",
     "text": [
      "train (2841, 0.003788, 7842, 0.010456)\n",
      "test (918, 0.003672, 918, 0.003672)\n",
      "original (1, 6.666666666666667e-05, 1, 6.666666666666667e-05)\n"
     ]
    }
   ],
   "source": [
    "print('train', find_duplicates(data_train))\n",
    "print('test', find_duplicates(data_test))\n",
    "print('original', find_duplicates(data_original))"
   ]
  },
  {
   "cell_type": "code",
   "execution_count": 10,
   "id": "90a5258c-b906-47c9-8d33-317fa8f6e17f",
   "metadata": {},
   "outputs": [
    {
     "name": "stdout",
     "output_type": "stream",
     "text": [
      "          Sex  Age  Height  Weight  Duration  Heart_Rate  Body_Temp  Calories\n",
      "12852  female   28   164.0    59.0       9.0        90.0       39.5      40.0\n"
     ]
    }
   ],
   "source": [
    "print(data_original[data_original.duplicated()])"
   ]
  },
  {
   "cell_type": "code",
   "execution_count": 11,
   "id": "e62ad73f-6f1d-4127-82b8-ac262245a95b",
   "metadata": {},
   "outputs": [
    {
     "data": {
      "text/plain": [
       "15000"
      ]
     },
     "execution_count": 11,
     "metadata": {},
     "output_type": "execute_result"
    }
   ],
   "source": [
    "len(data_original)"
   ]
  }
 ],
 "metadata": {
  "kernelspec": {
   "display_name": "Python 3 (ipykernel)",
   "language": "python",
   "name": "python3"
  },
  "language_info": {
   "codemirror_mode": {
    "name": "ipython",
    "version": 3
   },
   "file_extension": ".py",
   "mimetype": "text/x-python",
   "name": "python",
   "nbconvert_exporter": "python",
   "pygments_lexer": "ipython3",
   "version": "3.10.12"
  }
 },
 "nbformat": 4,
 "nbformat_minor": 5
}
